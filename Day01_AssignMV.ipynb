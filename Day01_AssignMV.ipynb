{
 "cells": [
  {
   "cell_type": "code",
   "execution_count": 1,
   "id": "56463e6c-f6f5-46e0-8345-9defac0308af",
   "metadata": {},
   "outputs": [
    {
     "name": "stdin",
     "output_type": "stream",
     "text": [
      "Enter a word -  United States of America\n"
     ]
    },
    {
     "name": "stdout",
     "output_type": "stream",
     "text": [
      "No of vowels - 10\n"
     ]
    }
   ],
   "source": [
    "# 1. Vowels in a word\n",
    "n = input(\"Enter a word - \")\n",
    "vowel = 'aeiouAEIOU'\n",
    "count = 0\n",
    "for v in n:\n",
    "    if v in vowel:\n",
    "            count=count+1\n",
    "print(\"No of vowels -\", count)\n",
    "        "
   ]
  },
  {
   "cell_type": "code",
   "execution_count": 51,
   "id": "d3c888a0-93a5-47f5-a021-7a3ab4601932",
   "metadata": {},
   "outputs": [
    {
     "name": "stdout",
     "output_type": "stream",
     "text": [
      "TIGER ELEPHANT MONKEY ZEBRA PANTHER \n",
      "['TIGER', 'ELEPHANT', 'MONKEY', 'ZEBRA', 'PANTHER']\n"
     ]
    }
   ],
   "source": [
    "#2. Animal list Capital\n",
    "animal = ['tiger','elephant','monkey','zebra','panther']\n",
    "myList = []\n",
    "for a in animal:\n",
    "    a = a.upper()\n",
    "    print(a,end = ' ')\n",
    "    myList.append(a)\n",
    "print()\n",
    "print(myList)\n"
   ]
  },
  {
   "cell_type": "code",
   "execution_count": 57,
   "id": "6a89ecfa-7986-426c-a371-71affa73558b",
   "metadata": {},
   "outputs": [
    {
     "name": "stdout",
     "output_type": "stream",
     "text": [
      "1 Odd\n",
      "2 Even\n",
      "3 Odd\n",
      "4 Even\n",
      "5 Odd\n",
      "6 Even\n",
      "7 Odd\n",
      "8 Even\n",
      "9 Odd\n",
      "10 Even\n",
      "11 Odd\n",
      "12 Even\n",
      "13 Odd\n",
      "14 Even\n",
      "15 Odd\n",
      "16 Even\n",
      "17 Odd\n",
      "18 Even\n",
      "19 Odd\n",
      "20 Even\n"
     ]
    }
   ],
   "source": [
    "#3. Print number, even/odd\n",
    "\n",
    "for i in range(1,21):\n",
    "    if i%2==0:\n",
    "        print(i,\"Even\")\n",
    "    else:\n",
    "        print(i,\"Odd\")\n",
    "    "
   ]
  },
  {
   "cell_type": "code",
   "execution_count": 2,
   "id": "37e8e960-65cb-4170-a82c-b2ab6df99d16",
   "metadata": {},
   "outputs": [
    {
     "name": "stdin",
     "output_type": "stream",
     "text": [
      "Enter word -  Yo, Banana Boy\n"
     ]
    },
    {
     "name": "stdout",
     "output_type": "stream",
     "text": [
      "Yo, Banana Boy is a Palindrome\n"
     ]
    }
   ],
   "source": [
    "#Palindrome\n",
    "\n",
    "inp = input(\"Enter word - \")\n",
    "word = inp.lower()\n",
    "n = len(word)\n",
    "\n",
    "for i in range(n):\n",
    "    if word[i] != word[n-i-1]:\n",
    "        print(f\"{inp} is not Palindrome\")\n",
    "        break\n",
    "    else:\n",
    "        print(f\"{inp} is a Palindrome\")\n",
    "        break"
   ]
  },
  {
   "cell_type": "code",
   "execution_count": 98,
   "id": "c9823b42-6821-4b7d-88b6-49a3a54381b4",
   "metadata": {},
   "outputs": [
    {
     "name": "stdin",
     "output_type": "stream",
     "text": [
      "Enter int1 -  990\n",
      "Enter int2 -  11\n"
     ]
    },
    {
     "data": {
      "text/plain": [
       "1001"
      ]
     },
     "execution_count": 98,
     "metadata": {},
     "output_type": "execute_result"
    }
   ],
   "source": [
    "#sum of integers\n",
    "\n",
    "def sum(a,b):\n",
    "    a = int(input(\"Enter int1 - \"))\n",
    "    b = int(input(\"Enter int2 - \"))\n",
    "    return a+b\n",
    "    \n",
    "sum(a,b)\n"
   ]
  }
 ],
 "metadata": {
  "kernelspec": {
   "display_name": "Python 3 (ipykernel)",
   "language": "python",
   "name": "python3"
  },
  "language_info": {
   "codemirror_mode": {
    "name": "ipython",
    "version": 3
   },
   "file_extension": ".py",
   "mimetype": "text/x-python",
   "name": "python",
   "nbconvert_exporter": "python",
   "pygments_lexer": "ipython3",
   "version": "3.13.5"
  }
 },
 "nbformat": 4,
 "nbformat_minor": 5
}
